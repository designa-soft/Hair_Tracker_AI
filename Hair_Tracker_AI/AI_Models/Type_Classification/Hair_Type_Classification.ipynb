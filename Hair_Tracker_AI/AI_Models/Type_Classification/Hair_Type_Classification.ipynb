{
  "cells": [
    {
      "cell_type": "code",
      "execution_count": null,
      "metadata": {
        "id": "kC2Bduck7wHB"
      },
      "outputs": [],
      "source": []
    },
    {
      "cell_type": "markdown",
      "metadata": {
        "id": "efg2nV_C7wHC"
      },
      "source": [
        "**Importing Libraries**"
      ]
    },
    {
      "cell_type": "code",
      "execution_count": null,
      "metadata": {
        "execution": {
          "iopub.execute_input": "2024-10-07T16:42:31.685885Z",
          "iopub.status.busy": "2024-10-07T16:42:31.685429Z",
          "iopub.status.idle": "2024-10-07T16:42:32.880538Z",
          "shell.execute_reply": "2024-10-07T16:42:32.879457Z",
          "shell.execute_reply.started": "2024-10-07T16:42:31.68584Z"
        },
        "id": "EjwAokik7wHF",
        "trusted": true
      },
      "outputs": [],
      "source": [
        "import pandas as pd\n",
        "import numpy as np\n",
        "from glob import glob\n",
        "import os\n",
        "import cv2\n",
        "import matplotlib.pylab as plt\n",
        "from skimage.io import imread\n",
        "from skimage.transform import resize\n",
        "from skimage.color import rgb2gray,rgba2rgb"
      ]
    },
    {
      "cell_type": "code",
      "execution_count": null,
      "metadata": {
        "execution": {
          "iopub.execute_input": "2024-10-07T16:42:35.680143Z",
          "iopub.status.busy": "2024-10-07T16:42:35.679477Z",
          "iopub.status.idle": "2024-10-07T16:44:47.054352Z",
          "shell.execute_reply": "2024-10-07T16:44:47.053147Z",
          "shell.execute_reply.started": "2024-10-07T16:42:35.680061Z"
        },
        "id": "argd8qcO7wHG",
        "trusted": true
      },
      "outputs": [],
      "source": [
        "input_dir = '/kaggle/input/hair-type-splitted/train_set'\n",
        "categories = ['Curly Hair', 'Straight Hair', 'Wavy Hair']\n",
        "data = []\n",
        "labels = []\n",
        "target_size = (15, 15)\n",
        "for category_idx, category in enumerate(categories):\n",
        "    category_path = os.path.join(input_dir, category)\n",
        "    for file in os.listdir(category_path):\n",
        "        img_path = os.path.join(category_path, file)\n",
        "        try:\n",
        "            img = imread(img_path)\n",
        "            if len(img.shape) == 3 and img.shape[2] == 4:\n",
        "                img = rgba2rgb(img)\n",
        "            if len(img.shape) == 3:\n",
        "                img = rgb2gray(img)\n",
        "\n",
        "            img_resized = resize(img, target_size)\n",
        "            data.append(img_resized.flatten())\n",
        "            labels.append(category_idx)\n",
        "        except Exception as e:\n",
        "            print(f\"Error processing {img_path}: {e}\")\n",
        "            continue\n",
        "\n",
        "data = np.array(data)\n",
        "labels = np.array(labels)"
      ]
    },
    {
      "cell_type": "code",
      "execution_count": null,
      "metadata": {
        "execution": {
          "iopub.execute_input": "2024-10-07T16:46:31.911494Z",
          "iopub.status.busy": "2024-10-07T16:46:31.911018Z",
          "iopub.status.idle": "2024-10-07T16:46:31.921615Z",
          "shell.execute_reply": "2024-10-07T16:46:31.920249Z",
          "shell.execute_reply.started": "2024-10-07T16:46:31.911452Z"
        },
        "id": "S4GDieFG7wHH",
        "trusted": true
      },
      "outputs": [],
      "source": [
        "data"
      ]
    },
    {
      "cell_type": "code",
      "execution_count": null,
      "metadata": {
        "execution": {
          "iopub.execute_input": "2024-10-07T16:46:34.490959Z",
          "iopub.status.busy": "2024-10-07T16:46:34.490453Z",
          "iopub.status.idle": "2024-10-07T16:46:34.497813Z",
          "shell.execute_reply": "2024-10-07T16:46:34.496398Z",
          "shell.execute_reply.started": "2024-10-07T16:46:34.490906Z"
        },
        "id": "MYzJnyMM7wHI",
        "trusted": true
      },
      "outputs": [],
      "source": [
        "print(data.shape)\n",
        "print(labels.shape)"
      ]
    },
    {
      "cell_type": "code",
      "execution_count": null,
      "metadata": {
        "execution": {
          "iopub.execute_input": "2024-10-07T16:53:22.058603Z",
          "iopub.status.busy": "2024-10-07T16:53:22.057475Z",
          "iopub.status.idle": "2024-10-07T16:53:22.644676Z",
          "shell.execute_reply": "2024-10-07T16:53:22.643382Z",
          "shell.execute_reply.started": "2024-10-07T16:53:22.05855Z"
        },
        "id": "Vo_Pb7mm7wHJ",
        "trusted": true
      },
      "outputs": [],
      "source": [
        "from sklearn.ensemble import RandomForestClassifier\n",
        "from sklearn.preprocessing import StandardScaler\n",
        "from sklearn.metrics import accuracy_score\n",
        "\n",
        "scaler = StandardScaler()\n",
        "train_data = scaler.fit_transform(data)\n",
        "\n",
        "random_forest = RandomForestClassifier(\n",
        "    n_estimators=100,\n",
        "    min_samples_split=2,\n",
        "    min_samples_leaf=1,\n",
        "    max_features='log2',\n",
        "    max_depth=20\n",
        ")\n",
        "random_forest.fit(train_data, labels)"
      ]
    },
    {
      "cell_type": "code",
      "execution_count": null,
      "metadata": {
        "execution": {
          "iopub.execute_input": "2024-10-07T16:46:42.399675Z",
          "iopub.status.busy": "2024-10-07T16:46:42.399243Z",
          "iopub.status.idle": "2024-10-07T16:46:42.408636Z",
          "shell.execute_reply": "2024-10-07T16:46:42.407374Z",
          "shell.execute_reply.started": "2024-10-07T16:46:42.399636Z"
        },
        "id": "lRQNNLsm7wHL",
        "trusted": true
      },
      "outputs": [],
      "source": [
        "train_data"
      ]
    },
    {
      "cell_type": "markdown",
      "metadata": {
        "id": "YwxWV4aU7wHM"
      },
      "source": [
        "**Hyperparameter Tuning**"
      ]
    },
    {
      "cell_type": "code",
      "execution_count": null,
      "metadata": {
        "execution": {
          "iopub.execute_input": "2024-10-07T16:46:46.325862Z",
          "iopub.status.busy": "2024-10-07T16:46:46.325368Z",
          "iopub.status.idle": "2024-10-07T16:50:59.821901Z",
          "shell.execute_reply": "2024-10-07T16:50:59.820488Z",
          "shell.execute_reply.started": "2024-10-07T16:46:46.325814Z"
        },
        "id": "j4Ty8WIu7wHN",
        "trusted": true
      },
      "outputs": [],
      "source": [
        "from sklearn.model_selection import RandomizedSearchCV\n",
        "scaler = StandardScaler()\n",
        "train_data1 = scaler.fit_transform(data)\n",
        "param_dist = {\n",
        "    'n_estimators': [50, 100],\n",
        "    'max_depth': [None, 10, 20],\n",
        "    'min_samples_split': [2, 5],\n",
        "    'min_samples_leaf': [1, 2],\n",
        "    'max_features': ['sqrt','log2',0.5,0.75]\n",
        "}\n",
        "random_forest1 = RandomForestClassifier(random_state=42)\n",
        "\n",
        "random_search = RandomizedSearchCV(estimator=random_forest1, param_distributions=param_dist,\n",
        "                                   n_iter=20, cv=20, random_state=42, n_jobs=-1, verbose=1, scoring='accuracy')\n",
        "\n",
        "random_search.fit(train_data1, labels)\n",
        "print(f\"Best parameters: {random_search.best_params_}\")\n",
        "print(f\"Best cross-validation accuracy: {random_search.best_score_}\")"
      ]
    },
    {
      "cell_type": "markdown",
      "metadata": {
        "id": "frs8vBOb7wHN"
      },
      "source": [
        "**Testing**"
      ]
    },
    {
      "cell_type": "code",
      "execution_count": null,
      "metadata": {
        "execution": {
          "iopub.execute_input": "2024-10-07T16:53:31.766939Z",
          "iopub.status.busy": "2024-10-07T16:53:31.765941Z",
          "iopub.status.idle": "2024-10-07T16:54:43.693954Z",
          "shell.execute_reply": "2024-10-07T16:54:43.692889Z",
          "shell.execute_reply.started": "2024-10-07T16:53:31.766885Z"
        },
        "id": "CWDa1zO-7wHQ",
        "trusted": true
      },
      "outputs": [],
      "source": [
        "input_dir = '/kaggle/input/hair-type-splitted/test_set'\n",
        "categories = ['Curly Hair', 'Straight Hair', 'Wavy Hair']\n",
        "data1 = []\n",
        "labels1 = []\n",
        "target_size = (15, 15)\n",
        "for category_idx, category in enumerate(categories):\n",
        "    category_path = os.path.join(input_dir, category)\n",
        "    for file in os.listdir(category_path):\n",
        "        img_path = os.path.join(category_path, file)\n",
        "        try:\n",
        "            img = imread(img_path)\n",
        "            if len(img.shape) == 3 and img.shape[2] == 4:\n",
        "                img = rgba2rgb(img)\n",
        "            if len(img.shape) == 3:\n",
        "                img = rgb2gray(img)\n",
        "\n",
        "            img_resized = resize(img, target_size)\n",
        "            data1.append(img_resized.flatten())\n",
        "            labels1.append(category_idx)\n",
        "        except Exception as e:\n",
        "            print(f\"Error processing {img_path}: {e}\")\n",
        "            continue\n",
        "\n",
        "data1 = np.array(data1)\n",
        "labels1 = np.array(labels1)"
      ]
    },
    {
      "cell_type": "code",
      "execution_count": null,
      "metadata": {
        "execution": {
          "iopub.execute_input": "2024-10-07T16:55:11.40451Z",
          "iopub.status.busy": "2024-10-07T16:55:11.40315Z",
          "iopub.status.idle": "2024-10-07T16:55:11.414846Z",
          "shell.execute_reply": "2024-10-07T16:55:11.413544Z",
          "shell.execute_reply.started": "2024-10-07T16:55:11.404448Z"
        },
        "id": "OtNzmkuU7wHR",
        "trusted": true
      },
      "outputs": [],
      "source": [
        "test_data = scaler.transform(data1)\n",
        "test_data"
      ]
    },
    {
      "cell_type": "code",
      "execution_count": null,
      "metadata": {
        "execution": {
          "iopub.execute_input": "2024-10-07T16:55:15.497695Z",
          "iopub.status.busy": "2024-10-07T16:55:15.497251Z",
          "iopub.status.idle": "2024-10-07T16:55:15.522274Z",
          "shell.execute_reply": "2024-10-07T16:55:15.520848Z",
          "shell.execute_reply.started": "2024-10-07T16:55:15.497647Z"
        },
        "id": "Er92cP077wHS",
        "trusted": true
      },
      "outputs": [],
      "source": [
        "test_predictions = random_forest.predict(test_data)\n",
        "test_accuracy = accuracy_score(labels1, test_predictions)\n",
        "print(f\"Test Accuracy: {test_accuracy * 100:.2f}%\")"
      ]
    },
    {
      "cell_type": "markdown",
      "metadata": {
        "id": "Vk6yk7Jb7wHS"
      },
      "source": [
        "***Cross Validation***"
      ]
    },
    {
      "cell_type": "code",
      "execution_count": null,
      "metadata": {
        "execution": {
          "iopub.execute_input": "2024-10-07T16:58:01.603808Z",
          "iopub.status.busy": "2024-10-07T16:58:01.60335Z",
          "iopub.status.idle": "2024-10-07T16:58:01.610832Z",
          "shell.execute_reply": "2024-10-07T16:58:01.609338Z",
          "shell.execute_reply.started": "2024-10-07T16:58:01.603766Z"
        },
        "id": "5vLRbKKR7wHS",
        "trusted": true
      },
      "outputs": [],
      "source": [
        "from sklearn.svm import SVC\n",
        "from sklearn.ensemble import RandomForestClassifier\n",
        "from sklearn.neighbors import KNeighborsClassifier\n",
        "from sklearn.linear_model import LogisticRegression\n",
        "from sklearn.model_selection import cross_val_score"
      ]
    },
    {
      "cell_type": "code",
      "execution_count": null,
      "metadata": {
        "execution": {
          "iopub.execute_input": "2024-10-07T16:58:06.801179Z",
          "iopub.status.busy": "2024-10-07T16:58:06.800705Z",
          "iopub.status.idle": "2024-10-07T16:58:06.807964Z",
          "shell.execute_reply": "2024-10-07T16:58:06.806532Z",
          "shell.execute_reply.started": "2024-10-07T16:58:06.801134Z"
        },
        "id": "jlr7XrxT7wHT",
        "trusted": true
      },
      "outputs": [],
      "source": [
        "def evaluate_model(model, train_data, train_labels, cv_folds=5):\n",
        "    cv_scores = cross_val_score(model, train_data, train_labels, cv=cv_folds)\n",
        "    print(f\"{model.__class__.__name__} Cross-validation scores: {cv_scores}\")\n",
        "    print(f\"Mean cross-validation accuracy: {np.mean(cv_scores) * 100:.2f}%\")"
      ]
    },
    {
      "cell_type": "code",
      "execution_count": null,
      "metadata": {
        "execution": {
          "iopub.execute_input": "2024-10-07T16:58:12.258109Z",
          "iopub.status.busy": "2024-10-07T16:58:12.257619Z",
          "iopub.status.idle": "2024-10-07T16:58:20.066102Z",
          "shell.execute_reply": "2024-10-07T16:58:20.064558Z",
          "shell.execute_reply.started": "2024-10-07T16:58:12.258048Z"
        },
        "id": "csthNqQY7wHT",
        "trusted": true
      },
      "outputs": [],
      "source": [
        "models = [\n",
        "    SVC(kernel='linear', C=1),\n",
        "    RandomForestClassifier(n_estimators=100, random_state=42),\n",
        "    KNeighborsClassifier(n_neighbors=5),\n",
        "    LogisticRegression(max_iter=500)\n",
        "]\n",
        "\n",
        "for model in models:\n",
        "    evaluate_model(model, train_data,labels)"
      ]
    }
  ],
  "metadata": {
    "colab": {
      "name": "Hair_Type_Classification",
      "provenance": []
    },
    "kaggle": {
      "accelerator": "none",
      "dataSources": [
        {
          "datasetId": 877810,
          "sourceId": 1494758,
          "sourceType": "datasetVersion"
        },
        {
          "datasetId": 5832028,
          "sourceId": 9568471,
          "sourceType": "datasetVersion"
        }
      ],
      "dockerImageVersionId": 30786,
      "isGpuEnabled": false,
      "isInternetEnabled": true,
      "language": "python",
      "sourceType": "notebook"
    },
    "kernelspec": {
      "display_name": "Python 3",
      "language": "python",
      "name": "python3"
    },
    "language_info": {
      "codemirror_mode": {
        "name": "ipython",
        "version": 3
      },
      "file_extension": ".py",
      "mimetype": "text/x-python",
      "name": "python",
      "nbconvert_exporter": "python",
      "pygments_lexer": "ipython3",
      "version": "3.10.14"
    }
  },
  "nbformat": 4,
  "nbformat_minor": 0
}
